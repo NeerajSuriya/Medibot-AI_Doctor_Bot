{
 "cells": [
  {
   "cell_type": "code",
   "execution_count": 1,
   "id": "94fa29f5",
   "metadata": {},
   "outputs": [
    {
     "data": {
      "text/plain": [
       "'/home/sneeraj/medbot/Med-bot---demo/research'"
      ]
     },
     "execution_count": 1,
     "metadata": {},
     "output_type": "execute_result"
    }
   ],
   "source": [
    "%pwd"
   ]
  },
  {
   "cell_type": "code",
   "execution_count": 3,
   "id": "5fc37392",
   "metadata": {},
   "outputs": [],
   "source": [
    "os.chdir(\"/home/sneeraj/medbot/Med-bot---demo\")"
   ]
  },
  {
   "cell_type": "code",
   "execution_count": 2,
   "id": "e6509fe9",
   "metadata": {},
   "outputs": [],
   "source": [
    "import os \n",
    "#os.chdir(\"../\")"
   ]
  },
  {
   "cell_type": "code",
   "execution_count": 4,
   "id": "2d4589f3",
   "metadata": {},
   "outputs": [],
   "source": [
    "from langchain.document_loaders import PyPDFLoader, DirectoryLoader\n",
    "from langchain.text_splitter import RecursiveCharacterTextSplitter\n"
   ]
  },
  {
   "cell_type": "code",
   "execution_count": 5,
   "id": "b72237dc",
   "metadata": {},
   "outputs": [],
   "source": [
    "#Extract Data from PDF \n",
    "\n",
    "def load_pdf_file(data):\n",
    "    loader = DirectoryLoader(data,\n",
    "                             glob=\"*.pdf\",\n",
    "                             loader_cls=PyPDFLoader)\n",
    "    documents= loader.load()\n",
    "    return documents"
   ]
  },
  {
   "cell_type": "code",
   "execution_count": 6,
   "id": "ee63298e",
   "metadata": {},
   "outputs": [],
   "source": [
    "extracted_data = load_pdf_file(data=\"Data/\")"
   ]
  },
  {
   "cell_type": "code",
   "execution_count": 19,
   "id": "f0c87013",
   "metadata": {},
   "outputs": [],
   "source": [
    "#extracted_data"
   ]
  },
  {
   "cell_type": "code",
   "execution_count": 7,
   "id": "5848cdc5",
   "metadata": {},
   "outputs": [],
   "source": [
    "#Split the data into Text Chunks\n",
    "def text_split(extracted_data):\n",
    "    text_splitter = RecursiveCharacterTextSplitter(chunk_size=500, chunk_overlap=20)\n",
    "    text_chunks = text_splitter.split_documents(extracted_data)\n",
    "    return text_chunks"
   ]
  },
  {
   "cell_type": "code",
   "execution_count": 8,
   "id": "faf9ff69",
   "metadata": {},
   "outputs": [
    {
     "name": "stdout",
     "output_type": "stream",
     "text": [
      "6973\n"
     ]
    }
   ],
   "source": [
    "text_chunks = text_split(extracted_data)\n",
    "print(len(text_chunks))"
   ]
  },
  {
   "cell_type": "code",
   "execution_count": 26,
   "id": "4c8e938a",
   "metadata": {},
   "outputs": [],
   "source": [
    "#text_chunks"
   ]
  },
  {
   "cell_type": "code",
   "execution_count": 9,
   "id": "1b816382",
   "metadata": {},
   "outputs": [],
   "source": [
    "from langchain.embeddings import HuggingFaceEmbeddings"
   ]
  },
  {
   "cell_type": "code",
   "execution_count": 10,
   "id": "baf078de",
   "metadata": {},
   "outputs": [],
   "source": [
    "#Downloading embeddings from huggingface\n",
    "\n",
    "def download_hugging_face_embeddings():\n",
    "    embeddings = HuggingFaceEmbeddings(model_name=\"sentence-transformers/all-MiniLM-L6-v2\")\n",
    "    return embeddings"
   ]
  },
  {
   "cell_type": "code",
   "execution_count": 11,
   "id": "9b41b31b",
   "metadata": {},
   "outputs": [
    {
     "name": "stderr",
     "output_type": "stream",
     "text": [
      "/tmp/ipykernel_18945/1626291360.py:4: LangChainDeprecationWarning: The class `HuggingFaceEmbeddings` was deprecated in LangChain 0.2.2 and will be removed in 1.0. An updated version of the class exists in the :class:`~langchain-huggingface package and should be used instead. To use it run `pip install -U :class:`~langchain-huggingface` and import as `from :class:`~langchain_huggingface import HuggingFaceEmbeddings``.\n",
      "  embeddings = HuggingFaceEmbeddings(model_name=\"sentence-transformers/all-MiniLM-L6-v2\")\n",
      "/home/sneeraj/miniconda3/envs/medibot/lib/python3.10/site-packages/tqdm/auto.py:21: TqdmWarning: IProgress not found. Please update jupyter and ipywidgets. See https://ipywidgets.readthedocs.io/en/stable/user_install.html\n",
      "  from .autonotebook import tqdm as notebook_tqdm\n"
     ]
    }
   ],
   "source": [
    "embeddings = download_hugging_face_embeddings()"
   ]
  },
  {
   "cell_type": "code",
   "execution_count": 12,
   "id": "a6ae2da8",
   "metadata": {},
   "outputs": [
    {
     "name": "stdout",
     "output_type": "stream",
     "text": [
      "384\n"
     ]
    }
   ],
   "source": [
    "query_result = embeddings.embed_query(\"Hello world\")\n",
    "print(len(query_result))"
   ]
  },
  {
   "cell_type": "code",
   "execution_count": 41,
   "id": "8f2c7a23",
   "metadata": {},
   "outputs": [],
   "source": [
    "#query_result\n"
   ]
  },
  {
   "cell_type": "code",
   "execution_count": 13,
   "id": "5a23f617",
   "metadata": {},
   "outputs": [
    {
     "data": {
      "text/plain": [
       "True"
      ]
     },
     "execution_count": 13,
     "metadata": {},
     "output_type": "execute_result"
    }
   ],
   "source": [
    "from dotenv import load_dotenv\n",
    "load_dotenv()"
   ]
  },
  {
   "cell_type": "code",
   "execution_count": 14,
   "id": "6e2c9167",
   "metadata": {},
   "outputs": [],
   "source": [
    "PINECONE_API_KEY=os.environ.get(\"PINECONE_API_KEY\")\n",
    "GROQ_API_KEY=os.environ.get(\"GROQ_API_KEY\")"
   ]
  },
  {
   "cell_type": "code",
   "execution_count": 19,
   "id": "5789aa62",
   "metadata": {},
   "outputs": [
    {
     "data": {
      "text/plain": [
       "{\n",
       "    \"name\": \"medbot-index\",\n",
       "    \"metric\": \"cosine\",\n",
       "    \"host\": \"medbot-index-4vatepi.svc.aped-4627-b74a.pinecone.io\",\n",
       "    \"spec\": {\n",
       "        \"serverless\": {\n",
       "            \"cloud\": \"aws\",\n",
       "            \"region\": \"us-east-1\"\n",
       "        }\n",
       "    },\n",
       "    \"status\": {\n",
       "        \"ready\": true,\n",
       "        \"state\": \"Ready\"\n",
       "    },\n",
       "    \"vector_type\": \"dense\",\n",
       "    \"dimension\": 384,\n",
       "    \"deletion_protection\": \"disabled\",\n",
       "    \"tags\": null\n",
       "}"
      ]
     },
     "execution_count": 19,
     "metadata": {},
     "output_type": "execute_result"
    }
   ],
   "source": [
    "from pinecone import Pinecone, ServerlessSpec\n",
    "import os\n",
    "\n",
    "pc = Pinecone(api_key = PINECONE_API_KEY)\n",
    "\n",
    "\n",
    "pc.create_index(\n",
    "    name = \"medbot-index\",\n",
    "    dimension = 384,\n",
    "    metric = \"cosine\",\n",
    "    spec = ServerlessSpec(\n",
    "        cloud = \"aws\",\n",
    "        region = \"us-east-1\",\n",
    "    )\n",
    ")"
   ]
  },
  {
   "cell_type": "code",
   "execution_count": 20,
   "id": "90552d68",
   "metadata": {},
   "outputs": [],
   "source": [
    "import os \n",
    "os.environ[\"PINECONE_API_KEY\"] = PINECONE_API_KEY\n",
    "os.environ[\"GROQ_API_KEY\"] = GROQ_API_KEY"
   ]
  },
  {
   "cell_type": "code",
   "execution_count": 21,
   "id": "d654065f",
   "metadata": {},
   "outputs": [],
   "source": [
    "#embed each chunk and upsert the embeddings into your pinecone index\n",
    "\n",
    "from langchain_pinecone import PineconeVectorStore\n",
    "docsearch = PineconeVectorStore.from_documents(\n",
    "    documents = text_chunks,\n",
    "    index_name = \"medbot-index\",\n",
    "    embedding = embeddings,\n",
    ")"
   ]
  },
  {
   "cell_type": "code",
   "execution_count": 22,
   "id": "f0441431",
   "metadata": {},
   "outputs": [],
   "source": [
    "# Load Existing index\n",
    "\n",
    "from langchain_pinecone import PineconeVectorStore\n",
    "\n",
    "docsearch = PineconeVectorStore.from_existing_index(\n",
    "    index_name=\"medbot-index\",\n",
    "    embedding = embeddings,\n",
    ")"
   ]
  },
  {
   "cell_type": "code",
   "execution_count": 20,
   "id": "7d243c12",
   "metadata": {},
   "outputs": [
    {
     "data": {
      "text/plain": [
       "<langchain_pinecone.vectorstores.PineconeVectorStore at 0x7401dc6d0130>"
      ]
     },
     "execution_count": 20,
     "metadata": {},
     "output_type": "execute_result"
    }
   ],
   "source": [
    "docsearch"
   ]
  },
  {
   "cell_type": "code",
   "execution_count": 23,
   "id": "e81ec288",
   "metadata": {},
   "outputs": [],
   "source": [
    "retriever = docsearch.as_retriever(search_type=\"similarity\", search_kwargs={\"k\":3})"
   ]
  },
  {
   "cell_type": "code",
   "execution_count": 27,
   "id": "f7b2ab9f",
   "metadata": {},
   "outputs": [],
   "source": [
    "retrieved_docs = retriever.invoke(\"What is Corneal abrasion?\")"
   ]
  },
  {
   "cell_type": "code",
   "execution_count": 28,
   "id": "4833b909",
   "metadata": {},
   "outputs": [
    {
     "data": {
      "text/plain": [
       "[Document(id='0ec62aa8-50c5-4e3b-8726-d6aa691ddb16', metadata={'author': '', 'creationdate': '2017-05-01T10:37:35-07:00', 'creator': '', 'keywords': '', 'moddate': '2017-05-01T10:37:35-07:00', 'page': 59.0, 'page_label': '60', 'producer': 'GPL Ghostscript 9.10', 'source': 'Data/The_GALE_ENCYCLOPEDIA_of_MEDICINE_SECOND.pdf', 'subject': '', 'title': '', 'total_pages': 759.0}, page_content='Degeneration of the macula (the central part of the\\nretina where the rods and cones are most dense)\\nthat leads to loss of central vision in people over 60.\\nCataract —Progressive opacity or clouding of an\\neye lens, which obstructs the passage of light to\\nthe retina.\\nCornea—Clear outer covering of the front of the eye.\\nIntraocular lens—Lens made of silicone or plastic\\nplaced within the eye; can be corrective.\\nRetina—Innermost layer at the back of the eye,'),\n",
       " Document(id='9ac259c0-3c54-4e29-a22d-27232e53d7ff', metadata={'author': '', 'creationdate': '2017-05-01T10:37:35-07:00', 'creator': '', 'keywords': '', 'moddate': '2017-05-01T10:37:35-07:00', 'page': 63.0, 'page_label': '64', 'producer': 'GPL Ghostscript 9.10', 'source': 'Data/The_GALE_ENCYCLOPEDIA_of_MEDICINE_SECOND.pdf', 'subject': '', 'title': '', 'total_pages': 759.0}, page_content='the cornea (edema), bleeding, retinal detachment , and\\nthe onset of glaucoma have been reported. Some problems\\nmay occur one to two days, or even several weeks, after\\nsurgery. Any haziness, redness, decrease in vision, nausea,\\nor pain should be reported to the surgeon immediately.\\nPrevention\\nPreventive measures emphasize protecting the eyes\\nfrom UV radiation by wearing glasses with a special coating\\nto protect against UV rays. Dark lenses alone are not suffi-'),\n",
       " Document(id='365ee189-ad3f-412d-a42a-480138e2aa5a', metadata={'author': '', 'creationdate': '2017-05-01T10:37:35-07:00', 'creator': '', 'keywords': '', 'moddate': '2017-05-01T10:37:35-07:00', 'page': 63.0, 'page_label': '64', 'producer': 'GPL Ghostscript 9.10', 'source': 'Data/The_GALE_ENCYCLOPEDIA_of_MEDICINE_SECOND.pdf', 'subject': '', 'title': '', 'total_pages': 759.0}, page_content='Untreated, glaucoma can lead to blindness.\\nPhacoemulsification —Surgical procedure to\\nremove a cataract using sound waves to disinte-\\ngrate the lens which is then removed by suction.\\nRetina—The innermost layer of the eyeball. Images\\nfocused onto the retina are then sent to the brain.\\nUltraviolet radiation (UV) —Invisible light rays\\nwhich may be responsible for sunburns, skin can-\\ncers, and cataract formation.\\nUveitis—Inflammation of the uvea. The uvea is a')]"
      ]
     },
     "execution_count": 28,
     "metadata": {},
     "output_type": "execute_result"
    }
   ],
   "source": [
    "retrieved_docs"
   ]
  },
  {
   "cell_type": "code",
   "execution_count": 24,
   "id": "ce03b04f",
   "metadata": {},
   "outputs": [],
   "source": [
    "from langchain_openai import ChatOpenAI\n",
    "\n",
    "llm = ChatOpenAI(\n",
    "    base_url=\"https://api.groq.com/openai/v1\",\n",
    "    api_key=GROQ_API_KEY,\n",
    "    model=\"llama3-8b-8192\",  # You can try mistralai/mixtral-8x7b or others too\n",
    ")"
   ]
  },
  {
   "cell_type": "code",
   "execution_count": 25,
   "id": "75fbc04d",
   "metadata": {},
   "outputs": [],
   "source": [
    "from langchain.chains import create_retrieval_chain\n",
    "from langchain.chains.combine_documents import create_stuff_documents_chain\n",
    "from langchain_core.prompts import ChatPromptTemplate\n",
    "\n",
    "system_prompt = (\n",
    "    \"You are a medical assistant chatbot trained on medical literature. \"\n",
    "    \"Answer user questions directly in a natural way. \"\n",
    "    \"Do NOT mention or refer to 'context', 'retrieved text', 'documents', or 'sources'. \"\n",
    "    \"Instead, summarize and rephrase in your own words. \"\n",
    "    \"Keep the explanation clear, accurate, and professional. \"\n",
    "    \"If unsure, say so and recommend consulting a healthcare professional.\\n\\n\"\n",
    "    \"{context}\"\n",
    ")\n",
    "\n",
    "prompt = ChatPromptTemplate.from_messages(\n",
    "    [\n",
    "        (\"system\", system_prompt),\n",
    "        (\"human\", \"{input}\"),\n",
    "    ]\n",
    ")\n"
   ]
  },
  {
   "cell_type": "code",
   "execution_count": 26,
   "id": "6de03eaf",
   "metadata": {},
   "outputs": [],
   "source": [
    "question_answer_chain = create_stuff_documents_chain(llm,prompt)\n",
    "rag_chain = create_retrieval_chain(retriever,question_answer_chain)"
   ]
  },
  {
   "cell_type": "code",
   "execution_count": 27,
   "id": "bed5eca9",
   "metadata": {},
   "outputs": [
    {
     "name": "stdout",
     "output_type": "stream",
     "text": [
      "A corneal abrasion is usually caused by direct injury to the eye. This can occur from various factors such as:\n",
      "\n",
      "* Fingernail scratches\n",
      "* Makeup brushes or other sharp objects that come into contact with the eye\n",
      "* Contact lenses that are inserted or removed incorrectly\n",
      "* Sunglasses or other eyewear that is not properly fitted or adjusted\n",
      "* Foreign particles or debris that enter the eye\n",
      "* Accidental rubbing or bumping of the eye\n",
      "* Trauma or blow to the eye\n",
      "* Irritants such as chemicals or cleaning agents that come into contact with the eye\n",
      "\n",
      "These injuries can cause a small tear or scratch on the surface of the cornea, leading to a corneal abrasion.\n"
     ]
    }
   ],
   "source": [
    "response = rag_chain.invoke({\"input\": \"What causes Corneal abrasion\"})\n",
    "print(response[\"answer\"])"
   ]
  }
 ],
 "metadata": {
  "kernelspec": {
   "display_name": "medibot",
   "language": "python",
   "name": "python3"
  },
  "language_info": {
   "codemirror_mode": {
    "name": "ipython",
    "version": 3
   },
   "file_extension": ".py",
   "mimetype": "text/x-python",
   "name": "python",
   "nbconvert_exporter": "python",
   "pygments_lexer": "ipython3",
   "version": "3.10.18"
  }
 },
 "nbformat": 4,
 "nbformat_minor": 5
}
